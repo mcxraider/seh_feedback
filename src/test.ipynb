{
 "cells": [
  {
   "cell_type": "code",
   "execution_count": 48,
   "metadata": {},
   "outputs": [],
   "source": [
    "import pandas as pd\n",
    "from groq import Groq\n",
    "import json\n",
    "import os\n",
    "import re\n",
    "from langchain_core.prompts import PromptTemplate\n",
    "import random\n",
    "import logging\n",
    "\n",
    "logging.basicConfig(\n",
    "    level=logging.INFO, format=\"%(asctime)s - %(levelname)s - %(message)s\"\n",
    ")\n",
    "\n",
    "## load evv variables\n",
    "from dotenv import load_dotenv\n",
    "\n",
    "load_dotenv()\n",
    "GROQ_API_KEY = os.environ[\"GROQ_API_KEY\"]\n",
    "CHAT_MODEL = os.environ[\"CHAT_MODEL\"]\n",
    "client = Groq()"
   ]
  },
  {
   "cell_type": "code",
   "execution_count": 64,
   "metadata": {},
   "outputs": [
    {
     "data": {
      "text/html": [
       "<div>\n",
       "<style scoped>\n",
       "    .dataframe tbody tr th:only-of-type {\n",
       "        vertical-align: middle;\n",
       "    }\n",
       "\n",
       "    .dataframe tbody tr th {\n",
       "        vertical-align: top;\n",
       "    }\n",
       "\n",
       "    .dataframe thead th {\n",
       "        text-align: right;\n",
       "    }\n",
       "</style>\n",
       "<table border=\"1\" class=\"dataframe\">\n",
       "  <thead>\n",
       "    <tr style=\"text-align: right;\">\n",
       "      <th></th>\n",
       "      <th>Comments</th>\n",
       "      <th>Labels</th>\n",
       "    </tr>\n",
       "  </thead>\n",
       "  <tbody>\n",
       "    <tr>\n",
       "      <th>0</th>\n",
       "      <td>The article is poorly researched and full of i...</td>\n",
       "      <td>Negative_Complaint</td>\n",
       "    </tr>\n",
       "    <tr>\n",
       "      <th>1</th>\n",
       "      <td>You didn’t cover the key aspects of the topic.</td>\n",
       "      <td>Constructive_Criticism</td>\n",
       "    </tr>\n",
       "    <tr>\n",
       "      <th>2</th>\n",
       "      <td>The writing is too convoluted and hard to follow.</td>\n",
       "      <td>Constructive_Criticism</td>\n",
       "    </tr>\n",
       "    <tr>\n",
       "      <th>3</th>\n",
       "      <td>There are too many grammatical errors in the c...</td>\n",
       "      <td>Constructive_Criticism</td>\n",
       "    </tr>\n",
       "    <tr>\n",
       "      <th>4</th>\n",
       "      <td>Your articles are always biased.</td>\n",
       "      <td>Negative_Complaint</td>\n",
       "    </tr>\n",
       "  </tbody>\n",
       "</table>\n",
       "</div>"
      ],
      "text/plain": [
       "                                            Comments                  Labels\n",
       "0  The article is poorly researched and full of i...      Negative_Complaint\n",
       "1     You didn’t cover the key aspects of the topic.  Constructive_Criticism\n",
       "2  The writing is too convoluted and hard to follow.  Constructive_Criticism\n",
       "3  There are too many grammatical errors in the c...  Constructive_Criticism\n",
       "4                   Your articles are always biased.      Negative_Complaint"
      ]
     },
     "execution_count": 64,
     "metadata": {},
     "output_type": "execute_result"
    }
   ],
   "source": [
    "df = pd.read_csv(\"../data/new_data/AI_feedback.csv\", encoding='utf-8')\n",
    "df.head()"
   ]
  },
  {
   "cell_type": "code",
   "execution_count": 66,
   "metadata": {},
   "outputs": [
    {
     "data": {
      "text/plain": [
       "['Negative_Complaint',\n",
       " 'Constructive_Criticism',\n",
       " 'Design_Feedback',\n",
       " 'Positive Comment',\n",
       " 'Neutral']"
      ]
     },
     "execution_count": 66,
     "metadata": {},
     "output_type": "execute_result"
    }
   ],
   "source": [
    "list(df['Labels'].unique())"
   ]
  },
  {
   "cell_type": "code",
   "execution_count": 87,
   "metadata": {},
   "outputs": [],
   "source": [
    "comments = list(df['Comments'])"
   ]
  },
  {
   "cell_type": "code",
   "execution_count": 83,
   "metadata": {},
   "outputs": [],
   "source": [
    "GENERATE_LABELS_PROMPT = '''\n",
    "You are an intelligent system tasked with classifying seller feedback for an e-commerce platform. Each feedback item should be categorised into one or more appropriate labels from the following list:\n",
    "['Negative_Complaint','Constructive_Criticism','Design_Feedback','Positive Comment','Neutral']\n",
    "Now classify the following feedback:\n",
    "Feedback: {text}\n",
    "\n",
    "Example Output format:\n",
    "{{\n",
    "    \"feedback\": \"This platform is very confusing to use. The design needs improvement.\",\n",
    "    \"label\": \"Negative_Complaint\"\n",
    "}}\n",
    "''' "
   ]
  },
  {
   "cell_type": "code",
   "execution_count": 71,
   "metadata": {},
   "outputs": [],
   "source": [
    "def extract_answer(input_string):\n",
    "    # Find the start and end indices of the JSON data within the input string\n",
    "    # Assuming the JSON data starts with '{' and ends with '}'\n",
    "    json_start = input_string.find(\"{\")\n",
    "    json_end = input_string.rfind(\"}\") + 1\n",
    "\n",
    "    # If either the start or end index is not found, raise an error\n",
    "    if json_start == -1 or json_end == -1:\n",
    "        raise ValueError(\"Invalid input: No JSON data found.\")\n",
    "\n",
    "    # Extract the substring that potentially contains the JSON data\n",
    "    json_data = input_string[json_start:json_end]\n",
    "\n",
    "    try:\n",
    "        # Attempt to convert the JSON string to a Python dictionary\n",
    "        data_dict = json.loads(json_data)\n",
    "        return data_dict\n",
    "\n",
    "    except json.JSONDecodeError:\n",
    "        # If JSON decoding fails, search for a JSON object containing the 'questions' key\n",
    "        # Using regex to match a pattern that includes the 'questions' key\n",
    "        pattern = r'\\{\\s*\"feedback\":\\s*\".*?\",\\s*\"label\":\\s*\".*?\"\\s*\\}'\n",
    "        match = re.search(pattern, input_string, re.DOTALL)\n",
    "\n",
    "        if match:\n",
    "            # If a match is found, extract the matched JSON string and convert it to a dictionary\n",
    "            data_json_str = match.group(0)\n",
    "            data_dict = json.loads(data_json_str)\n",
    "            return data_dict\n",
    "\n",
    "        # If no valid JSON is found, the function will Log an error\n",
    "        else:\n",
    "            logging.error(\n",
    "                \"No dictionary with 'questions' as a key found in this input string. Error by LLM\"\n",
    "            )\n",
    "            return {\"error\": \"No dictionary with questions found\"}\n",
    "\n",
    "\n",
    "def generate_labels(feedback, label_prompt, client):\n",
    "    prompt = PromptTemplate(\n",
    "        template=label_prompt,\n",
    "        input_variables=[\"text\"],\n",
    "    )\n",
    "\n",
    "    final_prompt = prompt.format(text=feedback)\n",
    "\n",
    "    # Generate the completion by interacting with the language model API\n",
    "    completion = client.chat.completions.create(\n",
    "        model=CHAT_MODEL,\n",
    "        messages=[\n",
    "                    {\n",
    "                        \"role\": \"user\", \n",
    "                        \"content\": final_prompt\n",
    "                    }\n",
    "                    ],\n",
    "        temperature=0,  # Control the randomness of the output (lower means less random)\n",
    "        max_tokens=1024,  # Limit the response length\n",
    "        top_p=1,  # Nucleus sampling parameter (1 means only the most likely tokens are considered)\n",
    "        stream=True,  # Enable streaming of the response chunks\n",
    "        stop=None,  # Define stopping conditions (None means no stopping condition)\n",
    "    )\n",
    "\n",
    "    # Initialize an empty string to accumulate the response content\n",
    "    answer = \"\"\"\"\"\"\n",
    "    for chunk in completion:\n",
    "        # Append each chunk of content to the answer string\n",
    "        answer += chunk.choices[0].delta.content or \"\"\n",
    "        \n",
    "    label_dict = extract_answer(answer)\n",
    "\n",
    "    # Return the dictionary containing the generated questions\n",
    "    return label_dict"
   ]
  },
  {
   "cell_type": "code",
   "execution_count": 92,
   "metadata": {},
   "outputs": [
    {
     "name": "stderr",
     "output_type": "stream",
     "text": [
      "2025-01-20 12:06:46,364 - INFO - HTTP Request: POST https://api.groq.com/openai/v1/chat/completions \"HTTP/1.1 200 OK\"\n"
     ]
    },
    {
     "name": "stdout",
     "output_type": "stream",
     "text": [
      "--------------------------------------------------------------------------------\n",
      "FEEDBACK: Consider adding a loyalty programme to reward regular buyers.\n",
      "--------------------------------------------------------------------------------\n",
      "AI Generated label: Constructive_Criticism\n"
     ]
    }
   ],
   "source": [
    "random_number = random.randrange(0,165)\n",
    "gen_label_dict = generate_labels(comments[random_number], GENERATE_LABELS_PROMPT, client)\n",
    "print(\"-\"* 80)\n",
    "print(f\"FEEDBACK: {gen_label_dict['feedback']}\")\n",
    "print(\"-\"* 80)\n",
    "print(f\"AI Generated label: {gen_label_dict['label']}\")\n"
   ]
  },
  {
   "cell_type": "markdown",
   "metadata": {},
   "source": [
    "## Regions:\n",
    "SG\n",
    "MY\n",
    "TH\n",
    "TW\n",
    "ID\n",
    "PH\n",
    "VN\n",
    "BR"
   ]
  },
  {
   "cell_type": "code",
   "execution_count": 96,
   "metadata": {},
   "outputs": [
    {
     "data": {
      "text/html": [
       "<div>\n",
       "<style scoped>\n",
       "    .dataframe tbody tr th:only-of-type {\n",
       "        vertical-align: middle;\n",
       "    }\n",
       "\n",
       "    .dataframe tbody tr th {\n",
       "        vertical-align: top;\n",
       "    }\n",
       "\n",
       "    .dataframe thead th {\n",
       "        text-align: right;\n",
       "    }\n",
       "</style>\n",
       "<table border=\"1\" class=\"dataframe\">\n",
       "  <thead>\n",
       "    <tr style=\"text-align: right;\">\n",
       "      <th></th>\n",
       "      <th>Feedback id</th>\n",
       "      <th>Feedback 1</th>\n",
       "      <th>Feedback 2</th>\n",
       "    </tr>\n",
       "  </thead>\n",
       "  <tbody>\n",
       "    <tr>\n",
       "      <th>0</th>\n",
       "      <td>3595241</td>\n",
       "      <td>NaN</td>\n",
       "      <td>{\"description\":\"\"}</td>\n",
       "    </tr>\n",
       "    <tr>\n",
       "      <th>1</th>\n",
       "      <td>3594261</td>\n",
       "      <td>NaN</td>\n",
       "      <td>{\"description\":\"\"}</td>\n",
       "    </tr>\n",
       "    <tr>\n",
       "      <th>2</th>\n",
       "      <td>3592689</td>\n",
       "      <td>NaN</td>\n",
       "      <td>{\"description\":\"\"}</td>\n",
       "    </tr>\n",
       "    <tr>\n",
       "      <th>3</th>\n",
       "      <td>3591610</td>\n",
       "      <td>NaN</td>\n",
       "      <td>{\"description\":\"\"}</td>\n",
       "    </tr>\n",
       "    <tr>\n",
       "      <th>4</th>\n",
       "      <td>3591401</td>\n",
       "      <td>I didn't find any useful information.</td>\n",
       "      <td>{\"description\":\"\"}</td>\n",
       "    </tr>\n",
       "  </tbody>\n",
       "</table>\n",
       "</div>"
      ],
      "text/plain": [
       "   Feedback id                             Feedback 1          Feedback 2\n",
       "0      3595241                                    NaN  {\"description\":\"\"}\n",
       "1      3594261                                    NaN  {\"description\":\"\"}\n",
       "2      3592689                                    NaN  {\"description\":\"\"}\n",
       "3      3591610                                    NaN  {\"description\":\"\"}\n",
       "4      3591401  I didn't find any useful information.  {\"description\":\"\"}"
      ]
     },
     "execution_count": 96,
     "metadata": {},
     "output_type": "execute_result"
    }
   ],
   "source": [
    "region = \"SG\"\n",
    "region_path = f\"../data/official_data/feedback_{region}.xls\"\n",
    "columns_to_read = [\"Feedback id\", \"Feedback 1\", \"Feedback 2\"]\n",
    "df = pd.read_excel(region_path, usecols=columns_to_read)\n",
    "df.head()"
   ]
  },
  {
   "cell_type": "code",
   "execution_count": null,
   "metadata": {},
   "outputs": [],
   "source": []
  },
  {
   "cell_type": "markdown",
   "metadata": {},
   "source": [
    "# Relabelling\n",
    "['Negative_Complaint',\n",
    "'Constructive_Criticism',\n",
    "'Positive comment’,\n",
    "’Neutral’,\n",
    "'Design_Feedback',\n",
    "'Constructive_Criticism']"
   ]
  }
 ],
 "metadata": {
  "kernelspec": {
   "display_name": "venv",
   "language": "python",
   "name": "python3"
  },
  "language_info": {
   "codemirror_mode": {
    "name": "ipython",
    "version": 3
   },
   "file_extension": ".py",
   "mimetype": "text/x-python",
   "name": "python",
   "nbconvert_exporter": "python",
   "pygments_lexer": "ipython3",
   "version": "3.13.1"
  }
 },
 "nbformat": 4,
 "nbformat_minor": 2
}
