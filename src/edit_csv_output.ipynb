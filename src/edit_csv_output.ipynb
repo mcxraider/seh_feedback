{
 "cells": [
  {
   "cell_type": "code",
   "execution_count": 1,
   "metadata": {},
   "outputs": [],
   "source": [
    "# notebook to test code for editing and purifying the csv output\n",
    "# resolve issues with the labells being in strings"
   ]
  },
  {
   "cell_type": "code",
   "execution_count": 6,
   "metadata": {},
   "outputs": [
    {
     "name": "stderr",
     "output_type": "stream",
     "text": [
      "C:\\Users\\SP14267\\AppData\\Local\\Temp\\ipykernel_15756\\850280594.py:18: SettingWithCopyWarning: \n",
      "A value is trying to be set on a copy of a slice from a DataFrame.\n",
      "Try using .loc[row_indexer,col_indexer] = value instead\n",
      "\n",
      "See the caveats in the documentation: https://pandas.pydata.org/pandas-docs/stable/user_guide/indexing.html#returning-a-view-versus-a-copy\n",
      "  df_filtered['Feedback 2'] = df_filtered['Feedback 2'].apply(\n",
      "C:\\Users\\SP14267\\AppData\\Local\\Temp\\ipykernel_15756\\850280594.py:23: SettingWithCopyWarning: \n",
      "A value is trying to be set on a copy of a slice from a DataFrame.\n",
      "Try using .loc[row_indexer,col_indexer] = value instead\n",
      "\n",
      "See the caveats in the documentation: https://pandas.pydata.org/pandas-docs/stable/user_guide/indexing.html#returning-a-view-versus-a-copy\n",
      "  df_filtered['Feedback id'] = pd.to_numeric(df_filtered['Feedback id'], errors='coerce')\n"
     ]
    }
   ],
   "source": [
    "import pandas as pd\n",
    "import json\n",
    "final_df = pd.read_csv(\"../data/SG_labelled_feedback_data.csv\")\n",
    "    # Specify columns to read\n",
    "columns_to_read = [\"Feedback id\", \"Feedback 1\", \"Feedback 2\", \"URL\"]\n",
    "\n",
    "    # Load the data into a DataFrame\n",
    "df = pd.read_excel(\"../data/official_data/feedback_SG.xls\", usecols=columns_to_read)\n",
    "df.head()\n",
    "    # Filter out rows with missing or invalid data\n",
    "df_filtered = df[\n",
    "        (df['Feedback 1'].notna()) &\n",
    "        (df['Feedback 2'].notna()) &\n",
    "        (df['Feedback 2'] != '{\"description\":\"\"}')\n",
    "    ]\n",
    "\n",
    "    # Extract the 'description' field from JSON in 'Feedback 2'\n",
    "df_filtered['Feedback 2'] = df_filtered['Feedback 2'].apply(\n",
    "        lambda x: json.loads(x)['description'] if isinstance(x, str) else None\n",
    "    )\n",
    "\n",
    "    # Convert 'Feedback id' to numeric and drop rows with invalid IDs\n",
    "df_filtered['Feedback id'] = pd.to_numeric(df_filtered['Feedback id'], errors='coerce')\n",
    "df_filtered = df_filtered.dropna(subset=['Feedback id'])\n",
    "df_filtered.reset_index(drop=True, inplace=True)"
   ]
  },
  {
   "cell_type": "code",
   "execution_count": 7,
   "metadata": {},
   "outputs": [
    {
     "data": {
      "text/html": [
       "<div>\n",
       "<style scoped>\n",
       "    .dataframe tbody tr th:only-of-type {\n",
       "        vertical-align: middle;\n",
       "    }\n",
       "\n",
       "    .dataframe tbody tr th {\n",
       "        vertical-align: top;\n",
       "    }\n",
       "\n",
       "    .dataframe thead th {\n",
       "        text-align: right;\n",
       "    }\n",
       "</style>\n",
       "<table border=\"1\" class=\"dataframe\">\n",
       "  <thead>\n",
       "    <tr style=\"text-align: right;\">\n",
       "      <th></th>\n",
       "      <th>Feedback id</th>\n",
       "      <th>Feedback 1</th>\n",
       "      <th>Feedback 2</th>\n",
       "      <th>URL</th>\n",
       "    </tr>\n",
       "  </thead>\n",
       "  <tbody>\n",
       "    <tr>\n",
       "      <th>344</th>\n",
       "      <td>562242</td>\n",
       "      <td>I didn't find any useful information.</td>\n",
       "      <td>pls assist to check why my account still canno...</td>\n",
       "      <td>https://seller.shopee.sg/edu/article/7041</td>\n",
       "    </tr>\n",
       "    <tr>\n",
       "      <th>345</th>\n",
       "      <td>559455</td>\n",
       "      <td>I didn't find any useful information.</td>\n",
       "      <td>Already submitted 3 times but no response</td>\n",
       "      <td>https://seller.shopee.sg/edu/article/1643</td>\n",
       "    </tr>\n",
       "    <tr>\n",
       "      <th>346</th>\n",
       "      <td>553637</td>\n",
       "      <td>I didn't find any useful information.</td>\n",
       "      <td>Can not find Alcohol category id</td>\n",
       "      <td>https://seller.shopee.sg/edu/article/6806</td>\n",
       "    </tr>\n",
       "    <tr>\n",
       "      <th>347</th>\n",
       "      <td>537782</td>\n",
       "      <td>The lessons were too difficult.</td>\n",
       "      <td>My items are perishable mostly frozen items. I...</td>\n",
       "      <td>https://seller.shopee.sg/edu/article/1643</td>\n",
       "    </tr>\n",
       "    <tr>\n",
       "      <th>348</th>\n",
       "      <td>519465</td>\n",
       "      <td>I didn't find any useful information.</td>\n",
       "      <td>How about the others details of pick up locati...</td>\n",
       "      <td>https://seller.shopee.sg/edu/article/7039</td>\n",
       "    </tr>\n",
       "  </tbody>\n",
       "</table>\n",
       "</div>"
      ],
      "text/plain": [
       "     Feedback id                             Feedback 1  \\\n",
       "344       562242  I didn't find any useful information.   \n",
       "345       559455  I didn't find any useful information.   \n",
       "346       553637  I didn't find any useful information.   \n",
       "347       537782        The lessons were too difficult.   \n",
       "348       519465  I didn't find any useful information.   \n",
       "\n",
       "                                            Feedback 2  \\\n",
       "344  pls assist to check why my account still canno...   \n",
       "345          Already submitted 3 times but no response   \n",
       "346                   Can not find Alcohol category id   \n",
       "347  My items are perishable mostly frozen items. I...   \n",
       "348  How about the others details of pick up locati...   \n",
       "\n",
       "                                           URL  \n",
       "344  https://seller.shopee.sg/edu/article/7041  \n",
       "345  https://seller.shopee.sg/edu/article/1643  \n",
       "346  https://seller.shopee.sg/edu/article/6806  \n",
       "347  https://seller.shopee.sg/edu/article/1643  \n",
       "348  https://seller.shopee.sg/edu/article/7039  "
      ]
     },
     "execution_count": 7,
     "metadata": {},
     "output_type": "execute_result"
    }
   ],
   "source": [
    "df_filtered.tail()"
   ]
  },
  {
   "cell_type": "code",
   "execution_count": 4,
   "metadata": {},
   "outputs": [
    {
     "data": {
      "text/html": [
       "<div>\n",
       "<style scoped>\n",
       "    .dataframe tbody tr th:only-of-type {\n",
       "        vertical-align: middle;\n",
       "    }\n",
       "\n",
       "    .dataframe tbody tr th {\n",
       "        vertical-align: top;\n",
       "    }\n",
       "\n",
       "    .dataframe thead th {\n",
       "        text-align: right;\n",
       "    }\n",
       "</style>\n",
       "<table border=\"1\" class=\"dataframe\">\n",
       "  <thead>\n",
       "    <tr style=\"text-align: right;\">\n",
       "      <th></th>\n",
       "      <th>Feedback id</th>\n",
       "      <th>Label</th>\n",
       "      <th>Comment</th>\n",
       "    </tr>\n",
       "  </thead>\n",
       "  <tbody>\n",
       "    <tr>\n",
       "      <th>343</th>\n",
       "      <td>562242</td>\n",
       "      <td>['Negative Complaint']</td>\n",
       "      <td>pls assist to check why my account still canno...</td>\n",
       "    </tr>\n",
       "    <tr>\n",
       "      <th>344</th>\n",
       "      <td>559455</td>\n",
       "      <td>['Negative Complaint']</td>\n",
       "      <td>Already submitted 3 times but no response</td>\n",
       "    </tr>\n",
       "    <tr>\n",
       "      <th>345</th>\n",
       "      <td>553637</td>\n",
       "      <td>['Negative Complaint']</td>\n",
       "      <td>Can not find Alcohol category id</td>\n",
       "    </tr>\n",
       "    <tr>\n",
       "      <th>346</th>\n",
       "      <td>537782</td>\n",
       "      <td>['Design Feedback']</td>\n",
       "      <td>My items are perishable mostly frozen items. I...</td>\n",
       "    </tr>\n",
       "    <tr>\n",
       "      <th>347</th>\n",
       "      <td>519465</td>\n",
       "      <td>['Design Feedback']</td>\n",
       "      <td>How about the others details of pick up locati...</td>\n",
       "    </tr>\n",
       "  </tbody>\n",
       "</table>\n",
       "</div>"
      ],
      "text/plain": [
       "     Feedback id                   Label  \\\n",
       "343       562242  ['Negative Complaint']   \n",
       "344       559455  ['Negative Complaint']   \n",
       "345       553637  ['Negative Complaint']   \n",
       "346       537782     ['Design Feedback']   \n",
       "347       519465     ['Design Feedback']   \n",
       "\n",
       "                                               Comment  \n",
       "343  pls assist to check why my account still canno...  \n",
       "344          Already submitted 3 times but no response  \n",
       "345                   Can not find Alcohol category id  \n",
       "346  My items are perishable mostly frozen items. I...  \n",
       "347  How about the others details of pick up locati...  "
      ]
     },
     "execution_count": 4,
     "metadata": {},
     "output_type": "execute_result"
    }
   ],
   "source": [
    "final_df.tail()"
   ]
  },
  {
   "cell_type": "code",
   "execution_count": 8,
   "metadata": {},
   "outputs": [
    {
     "data": {
      "text/plain": [
       "False"
      ]
     },
     "execution_count": 8,
     "metadata": {},
     "output_type": "execute_result"
    }
   ],
   "source": [
    "len(final_df) == len(df_filtered)"
   ]
  },
  {
   "cell_type": "code",
   "execution_count": null,
   "metadata": {},
   "outputs": [],
   "source": []
  }
 ],
 "metadata": {
  "kernelspec": {
   "display_name": "venv",
   "language": "python",
   "name": "python3"
  },
  "language_info": {
   "codemirror_mode": {
    "name": "ipython",
    "version": 3
   },
   "file_extension": ".py",
   "mimetype": "text/x-python",
   "name": "python",
   "nbconvert_exporter": "python",
   "pygments_lexer": "ipython3",
   "version": "3.13.1"
  }
 },
 "nbformat": 4,
 "nbformat_minor": 2
}
