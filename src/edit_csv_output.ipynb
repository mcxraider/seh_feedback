{
 "cells": [
  {
   "cell_type": "code",
   "execution_count": null,
   "metadata": {},
   "outputs": [],
   "source": [
    "# notebook to test code for editing and purifying the csv output\n",
    "# resolve issues with the labells being in strings"
   ]
  },
  {
   "cell_type": "code",
   "execution_count": 4,
   "metadata": {},
   "outputs": [
    {
     "data": {
      "text/html": [
       "<div>\n",
       "<style scoped>\n",
       "    .dataframe tbody tr th:only-of-type {\n",
       "        vertical-align: middle;\n",
       "    }\n",
       "\n",
       "    .dataframe tbody tr th {\n",
       "        vertical-align: top;\n",
       "    }\n",
       "\n",
       "    .dataframe thead th {\n",
       "        text-align: right;\n",
       "    }\n",
       "</style>\n",
       "<table border=\"1\" class=\"dataframe\">\n",
       "  <thead>\n",
       "    <tr style=\"text-align: right;\">\n",
       "      <th></th>\n",
       "      <th>Feedback id</th>\n",
       "      <th>Label</th>\n",
       "      <th>Comment</th>\n",
       "    </tr>\n",
       "  </thead>\n",
       "  <tbody>\n",
       "    <tr>\n",
       "      <th>0</th>\n",
       "      <td>3577258</td>\n",
       "      <td>['Negative Complaint']</td>\n",
       "      <td>try to do discount. yet totally different. can...</td>\n",
       "    </tr>\n",
       "    <tr>\n",
       "      <th>1</th>\n",
       "      <td>3569525</td>\n",
       "      <td>['Constructive Criticism']</td>\n",
       "      <td>The team should think along the purchase amoun...</td>\n",
       "    </tr>\n",
       "    <tr>\n",
       "      <th>2</th>\n",
       "      <td>3538575</td>\n",
       "      <td>['Negative Complaint']</td>\n",
       "      <td>useless junk</td>\n",
       "    </tr>\n",
       "    <tr>\n",
       "      <th>3</th>\n",
       "      <td>3532189</td>\n",
       "      <td>['Constructive Criticism']</td>\n",
       "      <td>System shd send the alert to respective logist...</td>\n",
       "    </tr>\n",
       "    <tr>\n",
       "      <th>4</th>\n",
       "      <td>3531102</td>\n",
       "      <td>['Negative Complaint']</td>\n",
       "      <td>You did not solve my query, this is just a sma...</td>\n",
       "    </tr>\n",
       "  </tbody>\n",
       "</table>\n",
       "</div>"
      ],
      "text/plain": [
       "   Feedback id                       Label  \\\n",
       "0      3577258      ['Negative Complaint']   \n",
       "1      3569525  ['Constructive Criticism']   \n",
       "2      3538575      ['Negative Complaint']   \n",
       "3      3532189  ['Constructive Criticism']   \n",
       "4      3531102      ['Negative Complaint']   \n",
       "\n",
       "                                             Comment  \n",
       "0  try to do discount. yet totally different. can...  \n",
       "1  The team should think along the purchase amoun...  \n",
       "2                                       useless junk  \n",
       "3  System shd send the alert to respective logist...  \n",
       "4  You did not solve my query, this is just a sma...  "
      ]
     },
     "execution_count": 4,
     "metadata": {},
     "output_type": "execute_result"
    }
   ],
   "source": [
    "import pandas as pd\n",
    "df = pd.read_csv(\"../data/SG_labelled_feedback_data.csv\")\n",
    "df.head()"
   ]
  },
  {
   "cell_type": "code",
   "execution_count": 6,
   "metadata": {},
   "outputs": [
    {
     "data": {
      "text/plain": [
       "\"['Negative Complaint']\""
      ]
     },
     "execution_count": 6,
     "metadata": {},
     "output_type": "execute_result"
    }
   ],
   "source": [
    "df['Label'][0]"
   ]
  },
  {
   "cell_type": "code",
   "execution_count": null,
   "metadata": {},
   "outputs": [],
   "source": []
  }
 ],
 "metadata": {
  "kernelspec": {
   "display_name": "venv",
   "language": "python",
   "name": "python3"
  },
  "language_info": {
   "codemirror_mode": {
    "name": "ipython",
    "version": 3
   },
   "file_extension": ".py",
   "mimetype": "text/x-python",
   "name": "python",
   "nbconvert_exporter": "python",
   "pygments_lexer": "ipython3",
   "version": "3.13.1"
  }
 },
 "nbformat": 4,
 "nbformat_minor": 2
}
